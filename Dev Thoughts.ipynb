{
 "cells": [
  {
   "cell_type": "code",
   "execution_count": 1,
   "metadata": {},
   "outputs": [],
   "source": [
    "from jupyter_xterm_widget import IPyXterm\n",
    "\n",
    "from ipywidgets import Label\n",
    "from IPython.display import display"
   ]
  },
  {
   "cell_type": "code",
   "execution_count": 2,
   "metadata": {},
   "outputs": [
    {
     "data": {
      "text/html": [
       "<html>\n",
       "   <head>\n",
       "     <link rel=\"stylesheet\" href=\"node_modules/xterm/css/xterm.css\" />\n",
       "     <script src=\"node_modules/xterm/lib/xterm.js\"></script>\n",
       "   </head>\n",
       "</html>\n"
      ],
      "text/plain": [
       "<IPython.core.display.HTML object>"
      ]
     },
     "metadata": {},
     "output_type": "display_data"
    }
   ],
   "source": [
    "%%html\n",
    "<html>\n",
    "   <head>\n",
    "     <link rel=\"stylesheet\" href=\"node_modules/xterm/css/xterm.css\" />\n",
    "     <script src=\"node_modules/xterm/lib/xterm.js\"></script>\n",
    "   </head>\n",
    "</html>"
   ]
  },
  {
   "cell_type": "code",
   "execution_count": 2,
   "metadata": {},
   "outputs": [
    {
     "name": "stdout",
     "output_type": "stream",
     "text": [
      "Waiting for io_file\n"
     ]
    },
    {
     "data": {
      "application/vnd.jupyter.widget-view+json": {
       "model_id": "b1a36544ecc448b4a460231e8842d907",
       "version_major": 2,
       "version_minor": 0
      },
      "text/plain": [
       "IPyXterm(fd=57, io_file=<_io.FileIO name=57 mode='rb+' closefd=True>, pid=20434)"
      ]
     },
     "metadata": {},
     "output_type": "display_data"
    }
   ],
   "source": [
    "xterm = IPyXterm()\n",
    "display(xterm)"
   ]
  },
  {
   "cell_type": "code",
   "execution_count": 10,
   "metadata": {},
   "outputs": [
    {
     "data": {
      "text/plain": [
       "{'_trait_values': {'comm': <ipykernel.comm.comm.Comm at 0x7fd30c2c0c10>,\n",
       "  'keys': ['_dom_classes',\n",
       "   '_model_module',\n",
       "   '_model_module_version',\n",
       "   '_model_name',\n",
       "   '_view_count',\n",
       "   '_view_module',\n",
       "   '_view_module_version',\n",
       "   '_view_name',\n",
       "   'fd',\n",
       "   'io_file',\n",
       "   'layout',\n",
       "   'pid',\n",
       "   'status'],\n",
       "  '_dom_classes': (),\n",
       "  '_model_module': 'jupyter-xterm-widget',\n",
       "  '_model_module_version': '^0.1.0',\n",
       "  '_model_name': 'IPyXtermModel',\n",
       "  '_view_count': None,\n",
       "  '_view_module': 'jupyter-xterm-widget',\n",
       "  '_view_module_version': '^0.1.0',\n",
       "  '_view_name': 'IPyXtermView',\n",
       "  'fd': 65,\n",
       "  'io_file': <_io.FileIO name=65 mode='rb+' closefd=True>,\n",
       "  'layout': Layout(),\n",
       "  'pid': 18724,\n",
       "  'status': False,\n",
       "  '_msg_callbacks': <ipywidgets.widgets.widget.CallbackDispatcher at 0x7fd30c2c0d90>,\n",
       "  '_property_lock': {},\n",
       "  '_display_callbacks': <ipywidgets.widgets.widget.CallbackDispatcher at 0x7fd30c2c0c40>},\n",
       " '_trait_notifiers': {'comm': {'change': [<traitlets.traitlets.ObserveHandler at 0x7fd30c39fd00>]}},\n",
       " '_trait_validators': {},\n",
       " '_cross_validation_lock': False,\n",
       " '_model_id': '83d6cf4635ec4be49280826d70752a17',\n",
       " '_submission_callbacks': <ipywidgets.widgets.widget.CallbackDispatcher at 0x7fd30c2c04c0>}"
      ]
     },
     "execution_count": 10,
     "metadata": {},
     "output_type": "execute_result"
    }
   ],
   "source": [
    "xterm.__dict__"
   ]
  },
  {
   "cell_type": "code",
   "execution_count": 4,
   "metadata": {},
   "outputs": [
    {
     "data": {
      "text/plain": [
       "{'_trait_values': {'callbacks': [<bound method IPyXterm._handle_string_msg of IPyXterm(fd=61, io_file=<_io.FileIO name=61 mode='rb+' closefd=True>, pid=12888)>]},\n",
       " '_trait_notifiers': {},\n",
       " '_trait_validators': {},\n",
       " '_cross_validation_lock': False}"
      ]
     },
     "execution_count": 4,
     "metadata": {},
     "output_type": "execute_result"
    }
   ],
   "source": [
    "xterm._msg_callbacks.__dict__"
   ]
  },
  {
   "cell_type": "code",
   "execution_count": 7,
   "metadata": {},
   "outputs": [
    {
     "data": {
      "text/plain": [
       "{'_trait_values': {'value': 'Hello World!',\n",
       "  'comm': <ipykernel.comm.comm.Comm at 0x7ffe6c4911f0>,\n",
       "  'keys': ['_dom_classes',\n",
       "   '_model_module',\n",
       "   '_model_module_version',\n",
       "   '_model_name',\n",
       "   '_view_count',\n",
       "   '_view_module',\n",
       "   '_view_module_version',\n",
       "   '_view_name',\n",
       "   'description',\n",
       "   'description_tooltip',\n",
       "   'layout',\n",
       "   'placeholder',\n",
       "   'style',\n",
       "   'value'],\n",
       "  '_dom_classes': (),\n",
       "  '_model_module': '@jupyter-widgets/controls',\n",
       "  '_model_module_version': '1.5.0',\n",
       "  '_model_name': 'LabelModel',\n",
       "  '_view_count': None,\n",
       "  '_view_module': '@jupyter-widgets/controls',\n",
       "  '_view_module_version': '1.5.0',\n",
       "  '_view_name': 'LabelView',\n",
       "  'description': '',\n",
       "  'description_tooltip': None,\n",
       "  'layout': Layout(),\n",
       "  'placeholder': '\\u200b',\n",
       "  'style': DescriptionStyle()},\n",
       " '_trait_notifiers': {'comm': {'change': [<traitlets.traitlets.ObserveHandler at 0x7ffe6c5dcd60>]}},\n",
       " '_trait_validators': {},\n",
       " '_cross_validation_lock': False,\n",
       " '_model_id': '6716f78279104b18801e116135c75a08'}"
      ]
     },
     "execution_count": 7,
     "metadata": {},
     "output_type": "execute_result"
    }
   ],
   "source": [
    "label = Label(value='Hello World!')\n",
    "label.__dict__"
   ]
  },
  {
   "cell_type": "code",
   "execution_count": null,
   "metadata": {},
   "outputs": [],
   "source": [
    "print('Notes to Maintain Sanity:')\n",
    "print('js/lib/example.js is Widget js file. \"Frontend\"')\n",
    "print('<widget_name>/example.py is Widget py file. \"Backend\" ')\n",
    "print('\\n')\n",
    "print('Frontend Components: ')\n",
    "print('I need to make a Model and a View by Default.')\n",
    "print('I need to make the Model and View Dynamic ')\n",
    "print('During refractor: example.js referenced in embed.js and index.js')\n",
    "print('\\n')\n",
    "print('Backend Components: ')\n",
    "print('No Clue Right now... I should most likely solve backend first however.')"
   ]
  },
  {
   "cell_type": "code",
   "execution_count": null,
   "metadata": {},
   "outputs": [],
   "source": [
    "from ipywidgets import HTML\n",
    "data = '''\n",
    "<html>\n",
    "   <head>\n",
    "     <link rel=\"stylesheet\" href=\"node_modules/xterm/css/xterm.css\" />\n",
    "     <script src=\"node_modules/xterm/lib/xterm.js\"></script>\n",
    "   </head>\n",
    "   <body>\n",
    "     <div id=\"terminal\"></div>\n",
    "     <script>\n",
    "       var term = new Terminal();\n",
    "       term.open(document.getElementById('terminal'));\n",
    "       term.write('Hello from \\x1B[1;3;31mxterm.js\\x1B[0m $ ')\n",
    "     </script>\n",
    "   </body>\n",
    " </html>\n",
    "'''\n",
    "\n",
    "widgety=HTML(data)\n",
    "display(widgety)\n",
    " \n"
   ]
  },
  {
   "cell_type": "code",
   "execution_count": null,
   "metadata": {},
   "outputs": [],
   "source": []
  },
  {
   "cell_type": "code",
   "execution_count": null,
   "metadata": {},
   "outputs": [],
   "source": []
  }
 ],
 "metadata": {
  "kernelspec": {
   "display_name": "Python 3",
   "language": "python",
   "name": "python3"
  },
  "language_info": {
   "codemirror_mode": {
    "name": "ipython",
    "version": 3
   },
   "file_extension": ".py",
   "mimetype": "text/x-python",
   "name": "python",
   "nbconvert_exporter": "python",
   "pygments_lexer": "ipython3",
   "version": "3.8.2"
  }
 },
 "nbformat": 4,
 "nbformat_minor": 4
}
